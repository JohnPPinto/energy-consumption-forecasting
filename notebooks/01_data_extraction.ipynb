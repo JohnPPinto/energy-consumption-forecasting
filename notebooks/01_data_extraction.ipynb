{
 "cells": [
  {
   "cell_type": "markdown",
   "metadata": {},
   "source": [
    "# Data Extraction"
   ]
  },
  {
   "cell_type": "markdown",
   "metadata": {},
   "source": [
    "This notebook is for extracting the data from the source.\n",
    "\n",
    "Here, we will be extracting fresh data from the source or updating the existing data in our project.\n",
    "\n",
    "The source of the data is from the official Danish (Denmark) energy system which is a free and open data portal website.\n",
    "\n",
    "Note: This notebook is for experimenting purpose, complete code is in the 'src' directory."
   ]
  },
  {
   "cell_type": "code",
   "execution_count": 1,
   "metadata": {},
   "outputs": [],
   "source": [
    "import os\n",
    "import datetime\n",
    "import requests\n",
    "import pandas as pd\n",
    "from pathlib import Path\n",
    "from json import dump, JSONDecodeError"
   ]
  },
  {
   "cell_type": "code",
   "execution_count": 2,
   "metadata": {},
   "outputs": [
    {
     "data": {
      "text/plain": [
       "'d:\\\\projects\\\\energy-consumption-forecasting'"
      ]
     },
     "execution_count": 2,
     "metadata": {},
     "output_type": "execute_result"
    }
   ],
   "source": [
    "# Changing the working directory to project directory\n",
    "NOTEBOOK_DIR_PATH = Path('D:/projects/energy-consumption-forecasting/notebooks')\n",
    "\n",
    "if Path(os.getcwd()) == NOTEBOOK_DIR_PATH:\n",
    "    os.chdir(path='..')\n",
    "\n",
    "os.getcwd()"
   ]
  },
  {
   "cell_type": "code",
   "execution_count": 3,
   "metadata": {},
   "outputs": [
    {
     "data": {
      "text/plain": [
       "WindowsPath('data')"
      ]
     },
     "execution_count": 3,
     "metadata": {},
     "output_type": "execute_result"
    }
   ],
   "source": [
    "# Data path for storing all the data\n",
    "DATA_DIR_PATH = Path('data/')\n",
    "DATA_DIR_PATH"
   ]
  },
  {
   "cell_type": "markdown",
   "metadata": {},
   "source": [
    "Getting the data is quite simple, the data portal contains an API guide which has all the instructions that are needed for extracting the data.\n",
    "\n",
    "Note: It is been mentioned that even though the data is free to download there are various limitations and restriction.\\\n",
    "For complete understanding kindly go through the API guide: https://www.energidataservice.dk/guides/api-guides"
   ]
  },
  {
   "cell_type": "code",
   "execution_count": 4,
   "metadata": {},
   "outputs": [],
   "source": [
    "# A function for formatting the datetime that matches the requirement for API\n",
    "def get_extraction_datetime(start_date_time: datetime.datetime,\n",
    "                            end_date_time: datetime.datetime,):\n",
    "    \n",
    "    # Checking the datatype for start and end date are datetime.datetime\n",
    "    if not(isinstance(start_date_time, datetime.datetime) and \n",
    "           isinstance(end_date_time, datetime.datetime)):\n",
    "        raise TypeError('Invalid type of arguments for start and end date, '\n",
    "                        'must be a datetime.datetime data type')\n",
    "    \n",
    "    # Checking if end date is greater than start date\n",
    "    assert start_date_time < end_date_time, 'End date needs to be greater than the start date' \n",
    "    \n",
    "    # Converting the date format for API query and  \n",
    "    # increasing the end date by 1 day as per the API guide (off-by-one error)\n",
    "    start_date_time = start_date_time.strftime('%Y-%m-%dT%H:%M')\n",
    "    end_date_time = (end_date_time \n",
    "                     + datetime.timedelta(days=1)).strftime('%Y-%m-%dT%H:%M')\n",
    "\n",
    "    return start_date_time, end_date_time"
   ]
  },
  {
   "cell_type": "code",
   "execution_count": 5,
   "metadata": {},
   "outputs": [
    {
     "name": "stdout",
     "output_type": "stream",
     "text": [
      "Star Date: 2021-01-01T00:00 and End Date: 2021-01-06T00:00\n"
     ]
    }
   ],
   "source": [
    "start, end = get_extraction_datetime(start_date_time=datetime.datetime(2021, 1, 1),\n",
    "                                     end_date_time=datetime.datetime(2021, 1, 5))\n",
    "print(f'Star Date: {start} and End Date: {end}')"
   ]
  },
  {
   "cell_type": "code",
   "execution_count": 6,
   "metadata": {},
   "outputs": [],
   "source": [
    "def extract_dataset_from_api(start_date_time: datetime.datetime,\n",
    "                             end_date_time: datetime.datetime,\n",
    "                             sort_data_asc: bool = True,\n",
    "                             dataset_name: str = 'ConsumptionIndustry',\n",
    "                             base_url: str = 'https://api.energidataservice.dk/dataset/',\n",
    "                             meta_url: str = 'https://api.energidataservice.dk/meta/dataset/',\n",
    "                             save_dataset_metadata: bool = True):\n",
    "    \n",
    "    data_url = f'{base_url}{dataset_name}?'\n",
    "    meta_url = f'{meta_url}{dataset_name}?'\n",
    "    sort = 'HourUTC' if sort_data_asc else 'HourUTC%20DESC'\n",
    "\n",
    "    # Formatting the dates for the API parameters\n",
    "    start, end = get_extraction_datetime(start_date_time=start_date_time,\n",
    "                                         end_date_time=end_date_time)\n",
    "    \n",
    "    # Creating the parameters for the API request\n",
    "    params = {'offset': 0,\n",
    "              'start': start,\n",
    "              'end': end,\n",
    "              'sort': sort,}\n",
    "    \n",
    "    # Calling the API requests for dataset and metadata\n",
    "    with requests.Session() as session:\n",
    "        print(f'Sending API get request to: {data_url} and {meta_url} with parameters: {params}.\\n')\n",
    "        data_response = session.get(url=data_url, params=params)\n",
    "        meta_response = session.get(url=meta_url)\n",
    "        print(f'Connection to the dataset API is done and response received with status code: {data_response.status_code}.')\n",
    "        print(f'Connection to the metadata API is done and response received with status code: {meta_response.status_code}.\\n')\n",
    "\n",
    "    try :\n",
    "        json_data = data_response.json()\n",
    "        json_meta = meta_response.json()\n",
    "    except JSONDecodeError:\n",
    "        print(f'Error status code for Data: {data_response.status_code} and meta: {meta_response.status_code} while decoding the response into JSON format, recheck the get request method.')\n",
    "        return None\n",
    "    \n",
    "    # Getting the dataset from the JSON data and converting into dataframe\n",
    "    json_data = json_data.get('records')\n",
    "    dataset_df = pd.DataFrame.from_records(json_data)\n",
    "\n",
    "    if save_dataset_metadata:\n",
    "        \n",
    "        data_dir = Path('./data')\n",
    "        if not os.path.isdir(data_dir):\n",
    "            os.makedirs(data_dir)\n",
    "\n",
    "        start = start.replace(':', '-')\n",
    "        end = end.replace(':', '-')\n",
    "        data_filepath = data_dir / f'{dataset_name}_{start}_{end}.csv'\n",
    "        meta_filepath = data_dir / f'{dataset_name}_metadata.json'\n",
    "        print(f'Saving the dataset \"{data_filepath.name}\" in directory: \"{data_dir.absolute()}\".')\n",
    "        print(f'Saving the metadata \"{meta_filepath.name}\" in directory: \"{data_dir.absolute()}\".\\n')\n",
    "\n",
    "        # Saving the dataset as a csv file and meta data as JSON file in data directory\n",
    "        dataset_df.to_csv(path_or_buf=data_filepath,\n",
    "                          index=False)\n",
    "        with open(file=meta_filepath, mode='w') as file:\n",
    "            dump(obj=json_meta, fp=file)\n",
    "        print(f'Dataset has been saved in csv file \"{data_filepath.name}\".')\n",
    "        print(f'Metadata has been saved in json file \"{meta_filepath.name}\".\\n')\n",
    "\n",
    "        return dataset_df, json_meta, data_filepath, meta_filepath\n",
    "\n",
    "    return dataset_df, json_meta"
   ]
  },
  {
   "cell_type": "code",
   "execution_count": 7,
   "metadata": {},
   "outputs": [
    {
     "name": "stdout",
     "output_type": "stream",
     "text": [
      "Sending API get request to: https://api.energidataservice.dk/dataset/ConsumptionIndustry? and https://api.energidataservice.dk/meta/dataset/ConsumptionIndustry? with parameters: {'offset': 0, 'start': '2021-01-01T00:00', 'end': '2021-01-03T00:00', 'sort': 'HourUTC'}.\n",
      "\n",
      "Connection to the dataset API is done and response received with status code: 200.\n",
      "Connection to the metadata API is done and response received with status code: 200.\n",
      "\n",
      "Saving the dataset \"ConsumptionIndustry_2021-01-01T00-00_2021-01-03T00-00.csv\" in directory: \"d:\\projects\\energy-consumption-forecasting\\data\".\n",
      "Saving the metadata \"ConsumptionIndustry_metadata.json\" in directory: \"d:\\projects\\energy-consumption-forecasting\\data\".\n",
      "\n",
      "Dataset has been saved in csv file \"ConsumptionIndustry_2021-01-01T00-00_2021-01-03T00-00.csv\".\n",
      "Metadata has been saved in json file \"ConsumptionIndustry_metadata.json\".\n",
      "\n"
     ]
    }
   ],
   "source": [
    "dataset_df, json_meta, data_filepath, meta_filepath = extract_dataset_from_api(start_date_time=datetime.datetime(2021, 1, 1),\n",
    "                                                                               end_date_time=datetime.datetime(2021, 1, 2))"
   ]
  },
  {
   "cell_type": "code",
   "execution_count": 8,
   "metadata": {},
   "outputs": [
    {
     "data": {
      "text/html": [
       "<div>\n",
       "<style scoped>\n",
       "    .dataframe tbody tr th:only-of-type {\n",
       "        vertical-align: middle;\n",
       "    }\n",
       "\n",
       "    .dataframe tbody tr th {\n",
       "        vertical-align: top;\n",
       "    }\n",
       "\n",
       "    .dataframe thead th {\n",
       "        text-align: right;\n",
       "    }\n",
       "</style>\n",
       "<table border=\"1\" class=\"dataframe\">\n",
       "  <thead>\n",
       "    <tr style=\"text-align: right;\">\n",
       "      <th></th>\n",
       "      <th>HourUTC</th>\n",
       "      <th>HourDK</th>\n",
       "      <th>MunicipalityNo</th>\n",
       "      <th>Branche</th>\n",
       "      <th>ConsumptionkWh</th>\n",
       "    </tr>\n",
       "  </thead>\n",
       "  <tbody>\n",
       "    <tr>\n",
       "      <th>0</th>\n",
       "      <td>2020-12-31T23:00:00</td>\n",
       "      <td>2021-01-01T00:00:00</td>\n",
       "      <td>860</td>\n",
       "      <td>Privat</td>\n",
       "      <td>19864.474</td>\n",
       "    </tr>\n",
       "    <tr>\n",
       "      <th>1</th>\n",
       "      <td>2020-12-31T23:00:00</td>\n",
       "      <td>2021-01-01T00:00:00</td>\n",
       "      <td>860</td>\n",
       "      <td>Offentligt</td>\n",
       "      <td>2237.222</td>\n",
       "    </tr>\n",
       "    <tr>\n",
       "      <th>2</th>\n",
       "      <td>2020-12-31T23:00:00</td>\n",
       "      <td>2021-01-01T00:00:00</td>\n",
       "      <td>860</td>\n",
       "      <td>Erhverv</td>\n",
       "      <td>23567.818</td>\n",
       "    </tr>\n",
       "    <tr>\n",
       "      <th>3</th>\n",
       "      <td>2020-12-31T23:00:00</td>\n",
       "      <td>2021-01-01T00:00:00</td>\n",
       "      <td>851</td>\n",
       "      <td>Privat</td>\n",
       "      <td>37842.849</td>\n",
       "    </tr>\n",
       "    <tr>\n",
       "      <th>4</th>\n",
       "      <td>2020-12-31T23:00:00</td>\n",
       "      <td>2021-01-01T00:00:00</td>\n",
       "      <td>851</td>\n",
       "      <td>Offentligt</td>\n",
       "      <td>10517.319</td>\n",
       "    </tr>\n",
       "    <tr>\n",
       "      <th>...</th>\n",
       "      <td>...</td>\n",
       "      <td>...</td>\n",
       "      <td>...</td>\n",
       "      <td>...</td>\n",
       "      <td>...</td>\n",
       "    </tr>\n",
       "    <tr>\n",
       "      <th>14107</th>\n",
       "      <td>2021-01-02T22:00:00</td>\n",
       "      <td>2021-01-02T23:00:00</td>\n",
       "      <td>147</td>\n",
       "      <td>Offentligt</td>\n",
       "      <td>3753.202</td>\n",
       "    </tr>\n",
       "    <tr>\n",
       "      <th>14108</th>\n",
       "      <td>2021-01-02T22:00:00</td>\n",
       "      <td>2021-01-02T23:00:00</td>\n",
       "      <td>147</td>\n",
       "      <td>Erhverv</td>\n",
       "      <td>13016.514</td>\n",
       "    </tr>\n",
       "    <tr>\n",
       "      <th>14109</th>\n",
       "      <td>2021-01-02T22:00:00</td>\n",
       "      <td>2021-01-02T23:00:00</td>\n",
       "      <td>101</td>\n",
       "      <td>Privat</td>\n",
       "      <td>67934.111</td>\n",
       "    </tr>\n",
       "    <tr>\n",
       "      <th>14110</th>\n",
       "      <td>2021-01-02T22:00:00</td>\n",
       "      <td>2021-01-02T23:00:00</td>\n",
       "      <td>101</td>\n",
       "      <td>Offentligt</td>\n",
       "      <td>28250.310</td>\n",
       "    </tr>\n",
       "    <tr>\n",
       "      <th>14111</th>\n",
       "      <td>2021-01-02T22:00:00</td>\n",
       "      <td>2021-01-02T23:00:00</td>\n",
       "      <td>101</td>\n",
       "      <td>Erhverv</td>\n",
       "      <td>139525.257</td>\n",
       "    </tr>\n",
       "  </tbody>\n",
       "</table>\n",
       "<p>14112 rows × 5 columns</p>\n",
       "</div>"
      ],
      "text/plain": [
       "                   HourUTC               HourDK MunicipalityNo     Branche  \\\n",
       "0      2020-12-31T23:00:00  2021-01-01T00:00:00            860      Privat   \n",
       "1      2020-12-31T23:00:00  2021-01-01T00:00:00            860  Offentligt   \n",
       "2      2020-12-31T23:00:00  2021-01-01T00:00:00            860     Erhverv   \n",
       "3      2020-12-31T23:00:00  2021-01-01T00:00:00            851      Privat   \n",
       "4      2020-12-31T23:00:00  2021-01-01T00:00:00            851  Offentligt   \n",
       "...                    ...                  ...            ...         ...   \n",
       "14107  2021-01-02T22:00:00  2021-01-02T23:00:00            147  Offentligt   \n",
       "14108  2021-01-02T22:00:00  2021-01-02T23:00:00            147     Erhverv   \n",
       "14109  2021-01-02T22:00:00  2021-01-02T23:00:00            101      Privat   \n",
       "14110  2021-01-02T22:00:00  2021-01-02T23:00:00            101  Offentligt   \n",
       "14111  2021-01-02T22:00:00  2021-01-02T23:00:00            101     Erhverv   \n",
       "\n",
       "       ConsumptionkWh  \n",
       "0           19864.474  \n",
       "1            2237.222  \n",
       "2           23567.818  \n",
       "3           37842.849  \n",
       "4           10517.319  \n",
       "...               ...  \n",
       "14107        3753.202  \n",
       "14108       13016.514  \n",
       "14109       67934.111  \n",
       "14110       28250.310  \n",
       "14111      139525.257  \n",
       "\n",
       "[14112 rows x 5 columns]"
      ]
     },
     "execution_count": 8,
     "metadata": {},
     "output_type": "execute_result"
    }
   ],
   "source": [
    "dataset_df"
   ]
  },
  {
   "cell_type": "code",
   "execution_count": 9,
   "metadata": {},
   "outputs": [
    {
     "data": {
      "text/plain": [
       "{'datasetId': 18,\n",
       " 'datasetName': 'ConsumptionIndustry',\n",
       " 'title': 'Consumption per Industry, Public and Private, Municipality and Hour',\n",
       " 'description': 'Hourly consumption of industries, public sector and private units by municipality code.',\n",
       " 'organizationName': 'tso-electricity',\n",
       " 'updateFrequency': 'P1D',\n",
       " 'comment': \"* Categories are created based on Statistics Denmark's DK10 Industry Codes:\\n* \\\\- The category 9 ('Offentlig, undervisning og sundhed') is labeled 'Offentligt' (public).\\n* \\\\- Units connected to a CVR number in the other of Statistics Denmark's categories, including category 11 ('Uoplyst aktivitet') are labeled 'Erhverv' (industry).\\n* \\\\- Other units (without CVR numbers) are labeled as 'Privat' (private).\\n\\nUpdated gradually since 2021.  \",\n",
       " 'filterColumn': 'HourUTC',\n",
       " 'author': 'Energinet',\n",
       " 'resolution': '1 hour (PT1H)',\n",
       " 'columns': [{'dbColumn': 'HourUTC',\n",
       "   'dataType': 'datetime',\n",
       "   'sortOrder': 1,\n",
       "   'primaryKeyIndex': 1,\n",
       "   'displayName': 'Hour UTC',\n",
       "   'unit': '',\n",
       "   'description': 'A date and time (interval), shown in _UTC time zone_, where the values are valid. 00:00 o’clock is the first hour of a given day interval  00:00 - 00:59 and 01:00 covers the second hour (interval) of the day and so forth. Please note: The naming is based on the length of the interval of the finest grain of the resolution.',\n",
       "   'comment': 'Please note that the _format_ shown in the example applies to data downloaded as JSON or fetched through the API.\\nThe format is slightly different when it is shown on screen or downloaded manually as CSV or XLSX. This is mainly due to readability and consideration for Excel users.\\n\\n**In preview (in the GUI)** all timestamps are shown as (display convention)\\nYYYY-MM-DD hh:mmZ\\ne.g. 2017-07-14 08:00Z. \\nThat is without the seconds. The Z will remind viewers that this is UTC.\\n\\nIn **download (CSV and XLSX)** the datetime is exported as\\nYYYY-MM-DD hh:mm\\ne.g. 2017-07-14 08:00.\\nThat is without the “T” and the “Z” and the seconds. Excel will recognize it as date-time. The user must remember the convention about time zones.\\n\\nIn **download (JSON and API)** the datetime is exported as\\nYYYY-MM-DDThh:mm:ss\\ne.g. 2017-07-14T08:00:00.\\nThat is without the \"Z\".',\n",
       "   'example': '2017-07-14T08:00Z',\n",
       "   'columnSize': 17.0,\n",
       "   'validationRules': 'Always full hours, i.e. minutes and seconds are 00'},\n",
       "  {'dbColumn': 'HourDK',\n",
       "   'dataType': 'datetime',\n",
       "   'sortOrder': 3,\n",
       "   'displayName': 'Hour DK',\n",
       "   'unit': '',\n",
       "   'description': 'A date and time (interval), shown in _Danish time zone_, where the values are valid. 00:00 o’clock is the first hour of a given day, interval 00:00 - 00:59, and 01:00 covers the second hour period (interval) of the day and so forth. ',\n",
       "   'comment': 'On one normal day there will be 24 intervals.\\n\\nWhen daylight saving times shifts there will be either 23 or 25 intervals.\\n\\nPlease note that the _format_ shown in the example applies to data downloaded as JSON or fetched through the API.\\nThe format is slightly different when it is shown on screen or downloaded manually as CSV or XLSX. This is mainly due to readability and consideration for Excel users.\\n\\n**In preview (in the GUI)** all timestamps are shown as (display convention)\\nYYYY-MM-DD hh:mm\\ne.g. 2017-07-14 08:00. \\nPlease note that there is no time zone indicator, showing that this is local (Danish) time.\\n\\nIn **download (CSV and XLSX)** the datetime is exported as\\nYYYY-MM-DD hh:mm\\ne.g. 2017-07-14 08:00.\\nThat is without the “T” and the seconds. Excel will recognize it as date-time. The user must remember that this is local (Danish) time.\\n\\nIn **download (JSON and API)** the datetime is exported as\\nYYYY-MM-DDThh:mm:00\\ne.g. 2017-07-14T08:00:00.',\n",
       "   'example': '2017-07-14T08:00:00',\n",
       "   'columnSize': 17.0,\n",
       "   'validationRules': 'Always full hours, i.e. minutes and seconds are 00'},\n",
       "  {'dbColumn': 'MunicipalityNo',\n",
       "   'dataType': 'string',\n",
       "   'sortOrder': 5,\n",
       "   'primaryKeyIndex': 2,\n",
       "   'displayName': 'Municipality number',\n",
       "   'unit': 'Coded',\n",
       "   'description': 'Each of the 98 Danish municipalities has a unique number, ranging from 101 Copenhagen to 860 Hjørring.',\n",
       "   'comment': '* A list with the unique numbers can be found at [https://info.skat.dk/](https://info.skat.dk/data.aspx?oid=2276646).\\n* Number from 101 - 400 is DK2.\\n* Numbers from 410 is DK1.',\n",
       "   'example': '101',\n",
       "   'columnSize': 3.0},\n",
       "  {'dbColumn': 'Branche',\n",
       "   'dataType': 'string',\n",
       "   'sortOrder': 6,\n",
       "   'primaryKeyIndex': 3,\n",
       "   'displayName': 'Industry groups',\n",
       "   'unit': 'text',\n",
       "   'description': \"Grouped categories based on the DK10 industry codes (specified by Statistics Denmark). All measurement id's related to a CVR number are labeled as 'Erhverv' except those that belong to category 9 ('Off. adm, undervisn., sundhed'), which are labeled 'Offentligt'. All other measurement id's are labeled 'Privat'.\",\n",
       "   'comment': '',\n",
       "   'example': 'Erhverv',\n",
       "   'columnSize': 50.0},\n",
       "  {'dbColumn': 'ConsumptionkWh',\n",
       "   'dataType': 'number',\n",
       "   'sortOrder': 7,\n",
       "   'displayName': 'Consumption kWh',\n",
       "   'unit': 'kWh',\n",
       "   'description': 'Consumption kWh',\n",
       "   'comment': '',\n",
       "   'example': '123,4',\n",
       "   'columnSize': 18.1,\n",
       "   'validationRules': '>=0'}],\n",
       " 'tags': ['Active', 'Hour', 'Municipality'],\n",
       " 'lastUpdate': '2024-01-25T13:23:38',\n",
       " 'dataFrom': '2021-01-01T00:00:00',\n",
       " 'published': '2021-01-01T00:00:00',\n",
       " 'active': True,\n",
       " 'filterColumnIsDate': False}"
      ]
     },
     "execution_count": 9,
     "metadata": {},
     "output_type": "execute_result"
    }
   ],
   "source": [
    "json_meta"
   ]
  },
  {
   "cell_type": "code",
   "execution_count": 10,
   "metadata": {},
   "outputs": [
    {
     "data": {
      "text/plain": [
       "(WindowsPath('data/ConsumptionIndustry_2021-01-01T00-00_2021-01-03T00-00.csv'),\n",
       " WindowsPath('data/ConsumptionIndustry_metadata.json'))"
      ]
     },
     "execution_count": 10,
     "metadata": {},
     "output_type": "execute_result"
    }
   ],
   "source": [
    "data_filepath, meta_filepath"
   ]
  }
 ],
 "metadata": {
  "kernelspec": {
   "display_name": "Python 3",
   "language": "python",
   "name": "python3"
  },
  "language_info": {
   "codemirror_mode": {
    "name": "ipython",
    "version": 3
   },
   "file_extension": ".py",
   "mimetype": "text/x-python",
   "name": "python",
   "nbconvert_exporter": "python",
   "pygments_lexer": "ipython3",
   "version": "3.11.7"
  }
 },
 "nbformat": 4,
 "nbformat_minor": 2
}
