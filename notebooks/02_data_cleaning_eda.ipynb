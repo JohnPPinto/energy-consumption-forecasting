{
 "cells": [
  {
   "cell_type": "markdown",
   "metadata": {},
   "source": [
    "# 2. Data Cleaning and Exploratory Data Analysis"
   ]
  },
  {
   "cell_type": "markdown",
   "metadata": {},
   "source": [
    "In this stage we will look at the data and understand the data quality and quantity.\\\n",
    "This stage will give us an indication of the necessary changes that our data needs before processing to different stages.\\\n",
    "\n",
    "This stages requires the data present in the data directory. \\\n",
    "You will need to download the data using the module in the feature pipeline: \"energy_consumption_forecasting\\feature_pipeline\\etl_data_extraction.py\" \\\n",
    "or you can run the data extraction notebook: \"notebooks\\01_data_extraction.ipynb\".\n",
    "\n",
    "Once data is download you can follow along."
   ]
  },
  {
   "cell_type": "code",
   "execution_count": null,
   "metadata": {
    "vscode": {
     "languageId": "plaintext"
    }
   },
   "outputs": [],
   "source": []
  }
 ],
 "metadata": {
  "language_info": {
   "name": "python"
  }
 },
 "nbformat": 4,
 "nbformat_minor": 2
}
